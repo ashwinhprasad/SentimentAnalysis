{

 "cells": [

  {

   "cell_type": "markdown",

   "metadata": {},

   "source": [

    "<h1> Data Preprocessing </h1>\n",

    "\n",

    "The data - preprocessing is done in a separate notbook becuase google colab is slow with this.\n",

    "This notebook contains various data preprocessing like removing stopwords, removing html tags, removing punctuations and stemming"

   ]

  },

  {

   "cell_type": "code",

"execution_count": null,
   "metadata": {},

   "outputs": [],

   "source": [

    "import numpy as np\n",

    "import pandas as pd\n",

    "import matplotlib.pyplot as plt\n",

    "import nltk\n",

    "nltk.download_shell()"

   ]

  },

  {

   "cell_type": "markdown",

   "metadata": {},

   "source": [

    "## Dataset\n",

    "\n",

    "The dataset used in for the sentiment analysis is 'IMDB Dataset' which is available from [Kaggle](https://www.kaggle.com/columbine/imdb-dataset-sentiment-analysis-in-csv-format)."

   ]

  },

  {

   "cell_type": "code",

"execution_count": null,
   "metadata": {},

   "outputs": [

    {

     "data": {

      "text/html": [

       "<div>\n",

       "<style scoped>\n",

       "    .dataframe tbody tr th:only-of-type {\n",

       "        vertical-align: middle;\n",

       "    }\n",

       "\n",

       "    .dataframe tbody tr th {\n",

       "        vertical-align: top;\n",

       "    }\n",

       "\n",

       "    .dataframe thead th {\n",

       "        text-align: right;\n",

       "    }\n",

       "</style>\n",

       "<table border=\"1\" class=\"dataframe\">\n",

       "  <thead>\n",

       "    <tr style=\"text-align: right;\">\n",

       "      <th></th>\n",

       "      <th>review</th>\n",

       "      <th>sentiment</th>\n",

       "    </tr>\n",

       "  </thead>\n",

       "  <tbody>\n",

       "    <tr>\n",

       "      <th>0</th>\n",

       "      <td>One of the other reviewers has mentioned that ...</td>\n",

       "      <td>positive</td>\n",

       "    </tr>\n",

       "    <tr>\n",

       "      <th>1</th>\n",

       "      <td>A wonderful little production. &lt;br /&gt;&lt;br /&gt;The...</td>\n",

       "      <td>positive</td>\n",

       "    </tr>\n",

       "    <tr>\n",

       "      <th>2</th>\n",

       "      <td>I thought this was a wonderful way to spend ti...</td>\n",

       "      <td>positive</td>\n",

       "    </tr>\n",

       "    <tr>\n",

       "      <th>3</th>\n",

       "      <td>Basically there's a family where a little boy ...</td>\n",

       "      <td>negative</td>\n",

       "    </tr>\n",

       "    <tr>\n",

       "      <th>4</th>\n",

       "      <td>Petter Mattei's \"Love in the Time of Money\" is...</td>\n",

       "      <td>positive</td>\n",

       "    </tr>\n",

       "  </tbody>\n",

       "</table>\n",

       "</div>"

      ],

      "text/plain": [

       "                                              review sentiment\n",

       "0  One of the other reviewers has mentioned that ...  positive\n",

       "1  A wonderful little production. <br /><br />The...  positive\n",

       "2  I thought this was a wonderful way to spend ti...  positive\n",

       "3  Basically there's a family where a little boy ...  negative\n",

       "4  Petter Mattei's \"Love in the Time of Money\" is...  positive"

      ]

     },

"execution_count": null,
     "metadata": {},

     "output_type": "execute_result"

    }

   ],

   "source": [

    "# importing the dataset\n",

    "df = pd.read_csv('IMDB Dataset.csv')\n",

    "df.head()"

   ]

  },

  {

   "cell_type": "markdown",

   "metadata": {},

   "source": [

    "<h2> Beautiful Soup </h2>\n",

    "\n",

    "Beautiful soup is an web scrapping library which can be used to remove html tags from the dataset"

   ]

  },

  {

   "cell_type": "code",

"execution_count": null,
   "metadata": {},

   "outputs": [],

   "source": [

    "#remove html tags\n",

    "from bs4 import BeautifulSoup\n",

    "for i in range(df.shape[0]):\n",

    "    df['review'][i] = BeautifulSoup(df['review'][i], \"lxml\").text"

   ]

  },

  {

   "cell_type": "markdown",

   "metadata": {},

   "source": [

    "<h2>Punctuations</h2>\n",

    "\n",

    "punctuations are removed with a function. string.punctuations contains all the punctuations."

   ]

  },

  {

   "cell_type": "code",

"execution_count": null,
   "metadata": {},

   "outputs": [],

   "source": [

    "#remove punctuations\n",

    "import string\n",

    "def punctuation(sentence):\n",

    "    review = [letters.lower() for letters in sentence if letters not in string.punctuation ]\n",

    "    review = ''.join(review)\n",

    "    return review\n",

    "\n",

    "df['review'] = df['review'].apply(punctuation)"

   ]

  },

  {

   "cell_type": "markdown",

   "metadata": {},

   "source": [

    "## Encoding Text, Removing Common Words, Implicit Ratings\n",

    "\n",

    "- Replacing positive , negative with 1,0. Most of the recommender systems that produce binary outputs are capable of predicting well whether a user will click the particular item or not. Hence, we do not care about predicting the rating that a user would like that movie\n",

    "\n",

    "- **Purpose of a Sentiment Analysis Model:** For Deep Learning, It's commonly known that we may require tons of data to make accurate predictions. \n",

    "\n",

    "    - Usually, *more data -> better model -> better predictions*\n",

    "\n",

    "- There are a lot of review pages and websites where there are tons of data available without a target variable. By Using sentiment analysis, we predict the accurate target variable for a review so that it could be later used for building better predictive models for recommendation systems or any other use case.\n",

    "\n",

    "- Stopwords are common words that can be removed from the dataset. generally, these words don't carry much significance"

   ]

  },

  {

   "cell_type": "code",

"execution_count": null,
   "metadata": {},

   "outputs": [],

   "source": [

    "df['sentiment'].replace(['positive','negative'],[1,0],inplace=True)"

   ]

  },

  {

   "cell_type": "code",

"execution_count": null,
   "metadata": {},

   "outputs": [],

   "source": [

    "#removing stopwords\n",

    "def stopwords(sentence):\n",

    "    review = [words for words in sentence.split() if words not in nltk.corpus.stopwords.words('english')]\n",

    "    review = ' '.join(review)\n",

    "    return review\n",

    "\n",

    "df['review'] = df['review'].apply(stopwords)"

   ]

  },

  {

   "cell_type": "markdown",

   "metadata": {},

   "source": [

    "<h2> Stemming </h2>\n",

    "\n",

    "converting to tf-idf is a computationally expensive task. we would like to reduce the number of distinct words as much as possible without losing the information from the data.<br>\n",

    "\n",

    "our dataset contains words like <b> run, runner , running , ran </b>. our model won't lose any information even if all these words are generalised to <b> run </b>. this is what stemming does."

   ]

  },

  {

   "cell_type": "code",

"execution_count": null,
   "metadata": {},

   "outputs": [

    {

     "data": {

      "text/html": [

       "<div>\n",

       "<style scoped>\n",

       "    .dataframe tbody tr th:only-of-type {\n",

       "        vertical-align: middle;\n",

       "    }\n",

       "\n",

       "    .dataframe tbody tr th {\n",

       "        vertical-align: top;\n",

       "    }\n",

       "\n",

       "    .dataframe thead th {\n",

       "        text-align: right;\n",

       "    }\n",

       "</style>\n",

       "<table border=\"1\" class=\"dataframe\">\n",

       "  <thead>\n",

       "    <tr style=\"text-align: right;\">\n",

       "      <th></th>\n",

       "      <th>review</th>\n",

       "      <th>sentiment</th>\n",

       "    </tr>\n",

       "  </thead>\n",

       "  <tbody>\n",

       "    <tr>\n",

       "      <th>0</th>\n",

       "      <td>one reviewers mentioned watching 1 oz episode ...</td>\n",

       "      <td>1</td>\n",

       "    </tr>\n",

       "    <tr>\n",

       "      <th>1</th>\n",

       "      <td>wonderful little production filming technique ...</td>\n",

       "      <td>1</td>\n",

       "    </tr>\n",

       "    <tr>\n",

       "      <th>2</th>\n",

       "      <td>thought wonderful way spend time hot summer we...</td>\n",

       "      <td>1</td>\n",

       "    </tr>\n",

       "    <tr>\n",

       "      <th>3</th>\n",

       "      <td>basically theres family little boy jake thinks...</td>\n",

       "      <td>0</td>\n",

       "    </tr>\n",

       "    <tr>\n",

       "      <th>4</th>\n",

       "      <td>petter matteis love time money visually stunni...</td>\n",

       "      <td>1</td>\n",

       "    </tr>\n",

       "  </tbody>\n",

       "</table>\n",

       "</div>"

      ],

      "text/plain": [

       "                                              review  sentiment\n",

       "0  one reviewers mentioned watching 1 oz episode ...          1\n",

       "1  wonderful little production filming technique ...          1\n",

       "2  thought wonderful way spend time hot summer we...          1\n",

       "3  basically theres family little boy jake thinks...          0\n",

       "4  petter matteis love time money visually stunni...          1"

      ]

     },

"execution_count": null,
     "metadata": {},

     "output_type": "execute_result"

    }

   ],

   "source": [

    "#stemming\n",

    "from nltk import PorterStemmer\n",

    "ps = PorterStemmer()\n",

    "df['review'] = df['review'].apply(ps.stem)\n",

    "df.head()"

   ]

  },

  {

   "cell_type": "markdown",

   "metadata": {},

   "source": [

    "<h2> Exporting the preprocessed dataframe to a csv file </h2>\n",

    "\n",

    "The main sentiment analysis part will be done with google colab. so, saving the modified dataframe"

   ]

  },

  {

   "cell_type": "code",

"execution_count": null,
   "metadata": {},

   "outputs": [],

   "source": [

    "#exporting csv file\n",

    "df.to_csv(\"processed_data.csv\",index=False)"

   ]

  }

 ],

 "metadata": {

  "kernelspec": {

   "display_name": "Python 3",

   "language": "python",

   "name": "python3"

  },

  "language_info": {

   "codemirror_mode": {

    "name": "ipython",

    "version": 3

   },

   "file_extension": ".py",

   "mimetype": "text/x-python",

   "name": "python",

   "nbconvert_exporter": "python",

   "pygments_lexer": "ipython3",

   "version": "3.8.5"

  }

 },

 "nbformat": 4,

 "nbformat_minor": 4

}

